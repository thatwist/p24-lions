{
 "cells": [
  {
   "cell_type": "code",
   "execution_count": null,
   "metadata": {},
   "outputs": [],
   "source": [
    "\n"
   ]
  },
  {
   "cell_type": "code",
   "execution_count": 2,
   "metadata": {},
   "outputs": [],
   "source": [
    "\"\"\"\n",
    "oni2avi.py\n",
    "~~~~~~~~~~\n",
    "This script implements a ONI file reader.\n",
    "Usage: python2 oni2avi.py --v <capture.oni>\n",
    "You should link the libOpenNI2.so and the OpenNI2 directory in the script path.\n",
    "If they are located inside /usr/lib, you could\n",
    "$ ln -s /usr/lib/libOpenNI2.so\n",
    "$ ln -s /usr/lib/OpenNI2\n",
    ":copyright: (c) 2015 by Daniele Liciotti.\n",
    ":license: Apache2, see LICENSE for more details.\n",
    ":date: 2017-05-05\n",
    "\"\"\"\n",
    "\n",
    "import argparse\n",
    "\n",
    "import cv2\n",
    "import numpy as np\n",
    "from primesense import openni2\n",
    "\n",
    "\n",
    "def openDevice(video_path):\n",
    "    try:\n",
    "        openni2.initialize()\n",
    "        dev = openni2.Device.open_file(video_path)\n",
    "        pbs = openni2.PlaybackSupport(dev)\n",
    "\n",
    "        pbs.set_repeat_enabled(False)\n",
    "        pbs.set_speed(-1.0)\n",
    "\n",
    "        return dev\n",
    "    except (RuntimeError, TypeError, NameError):\n",
    "        print(RuntimeError, TypeError, NameError)\n",
    "\n",
    "\n",
    "def saveColor(dev):\n",
    "    color_stream = dev.create_color_stream()\n",
    "    color_stream.start()\n",
    "\n",
    "    avi_color = cv2.VideoWriter('color.avi', cv2.cv.CV_FOURCC(*'XVID'),\n",
    "                                color_stream.get_video_mode().fps,\n",
    "                                (color_stream.get_video_mode().resolutionX,\n",
    "                                 color_stream.get_video_mode().resolutionY))\n",
    "\n",
    "    frame_color = color_stream.read_frame()\n",
    "\n",
    "    while frame_color.frameIndex < color_stream.get_number_of_frames():\n",
    "        frame_color = color_stream.read_frame()\n",
    "        frame_color_data = frame_color.get_buffer_as_uint8()\n",
    "        color_array = np.ndarray((frame_color.height, frame_color.width, 3),\n",
    "                                 dtype=np.uint8,\n",
    "                                 buffer=frame_color_data)\n",
    "        color_array = cv2.cvtColor(color_array, cv2.COLOR_BGR2RGB)\n",
    "\n",
    "        avi_color.write(color_array)\n",
    "\n",
    "    color_stream.stop()\n",
    "    openni2.unload()\n",
    "    cv2.destroyAllWindows()"
   ]
  },
  {
   "cell_type": "code",
   "execution_count": 21,
   "metadata": {},
   "outputs": [],
   "source": [
    "\n",
    "def saveDepth(dev):\n",
    "    depth_stream = dev.create_depth_stream()\n",
    "    depth_stream.start()\n",
    "    avi_depth = cv2.VideoWriter('depth.avi', cv2.VideoWriter_fourcc(*'XVID'),\n",
    "                                depth_stream.get_video_mode().fps,\n",
    "                                (depth_stream.get_video_mode().resolutionX,\n",
    "                                 depth_stream.get_video_mode().resolutionY))\n",
    "    depth_scale_factor = 255.0 / depth_stream.get_max_pixel_value()\n",
    "    frame_depth = depth_stream.read_frame()\n",
    "\n",
    "    while frame_depth.frameIndex < depth_stream.get_number_of_frames():\n",
    "        frame_depth = depth_stream.read_frame()\n",
    "        frame_depth_data = frame_depth.get_buffer_as_uint16()\n",
    "        depth_array = np.ndarray((frame_depth.height, frame_depth.width),\n",
    "                                 dtype=np.uint16,\n",
    "                                 buffer=frame_depth_data)\n",
    "        \n",
    "        img = cv2.normalize(frame_depth, frame_depth, 0, 1, cv2.NORM_MINMAX)\n",
    "        img = np.array(img * 255, dtype = np.uint8)\n",
    "        img = cv2.cvtColor(img, cv2.COLOR_GRAY2RGB)\n",
    "        img = cv2.applyColorMap(img, cv2.COLORMAP_OCEAN)\n",
    "        \n",
    "        depth_uint8 = cv2.convertScaleAbs(depth_array, alpha=depth_scale_factor)\n",
    "        depth_colored = cv2.applyColorMap(depth_uint8, cv2.COLORMAP_OCEAN)\n",
    "\n",
    "        #avi_depth.write(depth_colored)\n",
    "        avi_depth.write(img)\n",
    "\n",
    "    depth_stream.stop()\n",
    "    openni2.unload()\n",
    "    cv2.destroyAllWindows()\n",
    "\n"
   ]
  },
  {
   "cell_type": "code",
   "execution_count": 53,
   "metadata": {},
   "outputs": [
    {
     "name": "stdout",
     "output_type": "stream",
     "text": [
      "<class 'primesense.openni2.VideoFrame'>\n",
      "<type 'numpy.ndarray'>\n",
      "772803370\n",
      "3365\n",
      "0\n",
      "uint16\n"
     ]
    }
   ],
   "source": [
    "dev = openDevice('g021.oni')\n",
    "\n",
    "depth_stream = dev.create_depth_stream()\n",
    "depth_stream.start()\n",
    "avi_depth = cv2.VideoWriter('depth.avi', cv2.VideoWriter_fourcc(*'XVID'),\n",
    "                            depth_stream.get_video_mode().fps,\n",
    "                            (depth_stream.get_video_mode().resolutionX,\n",
    "                             depth_stream.get_video_mode().resolutionY))\n",
    "depth_scale_factor = 255.0 / depth_stream.get_max_pixel_value()\n",
    "frame_depth = depth_stream.read_frame()\n",
    "\n",
    "frame_depth = depth_stream.read_frame()\n",
    "frame_depth = depth_stream.read_frame()\n",
    "frame_depth = depth_stream.read_frame()\n",
    "frame_depth = depth_stream.read_frame()\n",
    "frame_depth = depth_stream.read_frame()\n",
    "frame_depth = depth_stream.read_frame()\n",
    "frame_depth = depth_stream.read_frame()\n",
    "frame_depth = depth_stream.read_frame()\n",
    "frame_depth = depth_stream.read_frame()\n",
    "frame_depth = depth_stream.read_frame()\n",
    "frame_depth = depth_stream.read_frame()\n",
    "\n",
    "print(type(frame_depth))\n",
    "\n",
    "frame_depth_data = frame_depth.get_buffer_as_uint16()\n",
    "depth_array = np.ndarray((frame_depth.height, frame_depth.width),\n",
    "                         dtype=np.uint16,\n",
    "                         buffer=frame_depth_data)\n",
    "print(type(depth_array))\n",
    "print(np.sum(depth_array))\n",
    "print(np.max(depth_array))\n",
    "print(np.min(depth_array))\n",
    "print(depth_array.dtype)\n",
    "\n",
    "img = cv2.normalize(frame_depth, frame_depth, 0, 1, cv2.NORM_MINMAX)\n",
    "#img = np.array(img * 255, dtype = np.uint8)\n",
    "#img = cv2.cvtColor(img, cv2.COLOR_GRAY2RGB)\n",
    "#img = cv2.applyColorMap(img, cv2.COLORMAP_OCEAN)\n",
    "\n",
    "depth_uint8 = cv2.convertScaleAbs(depth_array, alpha=depth_scale_factor)\n",
    "depth_colored = cv2.applyColorMap(depth_uint8, cv2.COLORMAP_OCEAN)\n",
    "\n",
    "#avi_depth.write(depth_colored)\n",
    "#avi_depth.write(img)\n",
    "\n",
    "depth_stream.stop()\n",
    "openni2.unload()\n",
    "cv2.destroyAllWindows()"
   ]
  },
  {
   "cell_type": "code",
   "execution_count": null,
   "metadata": {},
   "outputs": [],
   "source": [
    "def main():\n",
    "    p = argparse.ArgumentParser(formatter_class=argparse.RawDescriptionHelpFormatter, description=\"\")\n",
    "    p.add_argument('--v', dest='video_path', action='store', default='', help='path Video')\n",
    "    args = p.parse_args()\n",
    "    dev = openDevice(args.video_path)\n",
    "    saveDepth(dev)\n",
    "    dev = openDevice(args.video_path)\n",
    "    saveColor(dev)\n",
    "\n",
    "\n",
    "if __name__ == '__main__':\n",
    "    main()"
   ]
  },
  {
   "cell_type": "code",
   "execution_count": 8,
   "metadata": {},
   "outputs": [],
   "source": [
    "!export OPENNI2_INCLUDE=/Users/twist/Downloads/OpenNI-MacOSX-x64-2.2/Include\n",
    "!export OPENNI2_REDIST=/Users/twist/Downloads/OpenNI-MacOSX-x64-2.2/Redist"
   ]
  },
  {
   "cell_type": "code",
   "execution_count": 10,
   "metadata": {},
   "outputs": [],
   "source": [
    "!ln -s /usr/lib/libOpenNI2.so\n",
    "!ln -s /usr/lib/OpenNI2"
   ]
  },
  {
   "cell_type": "code",
   "execution_count": 22,
   "metadata": {},
   "outputs": [],
   "source": [
    "dev = openDevice('g021.oni')"
   ]
  },
  {
   "cell_type": "code",
   "execution_count": 23,
   "metadata": {},
   "outputs": [
    {
     "ename": "TypeError",
     "evalue": "src is not a numpy array, neither a scalar",
     "output_type": "error",
     "traceback": [
      "\u001b[0;31m---------------------------------------------------------------------------\u001b[0m",
      "\u001b[0;31mTypeError\u001b[0m                                 Traceback (most recent call last)",
      "\u001b[0;32m<ipython-input-23-b6c43a050f6a>\u001b[0m in \u001b[0;36m<module>\u001b[0;34m()\u001b[0m\n\u001b[0;32m----> 1\u001b[0;31m \u001b[0msaveDepth\u001b[0m\u001b[0;34m(\u001b[0m\u001b[0mdev\u001b[0m\u001b[0;34m)\u001b[0m\u001b[0;34m\u001b[0m\u001b[0m\n\u001b[0m",
      "\u001b[0;32m<ipython-input-21-590f52591702>\u001b[0m in \u001b[0;36msaveDepth\u001b[0;34m(dev)\u001b[0m\n\u001b[1;32m     17\u001b[0m                                  buffer=frame_depth_data)\n\u001b[1;32m     18\u001b[0m \u001b[0;34m\u001b[0m\u001b[0m\n\u001b[0;32m---> 19\u001b[0;31m         \u001b[0mimg\u001b[0m \u001b[0;34m=\u001b[0m \u001b[0mcv2\u001b[0m\u001b[0;34m.\u001b[0m\u001b[0mnormalize\u001b[0m\u001b[0;34m(\u001b[0m\u001b[0mframe_depth\u001b[0m\u001b[0;34m,\u001b[0m \u001b[0mframe_depth\u001b[0m\u001b[0;34m,\u001b[0m \u001b[0;36m0\u001b[0m\u001b[0;34m,\u001b[0m \u001b[0;36m1\u001b[0m\u001b[0;34m,\u001b[0m \u001b[0mcv2\u001b[0m\u001b[0;34m.\u001b[0m\u001b[0mNORM_MINMAX\u001b[0m\u001b[0;34m)\u001b[0m\u001b[0;34m\u001b[0m\u001b[0m\n\u001b[0m\u001b[1;32m     20\u001b[0m         \u001b[0mimg\u001b[0m \u001b[0;34m=\u001b[0m \u001b[0mnp\u001b[0m\u001b[0;34m.\u001b[0m\u001b[0marray\u001b[0m\u001b[0;34m(\u001b[0m\u001b[0mimg\u001b[0m \u001b[0;34m*\u001b[0m \u001b[0;36m255\u001b[0m\u001b[0;34m,\u001b[0m \u001b[0mdtype\u001b[0m \u001b[0;34m=\u001b[0m \u001b[0mnp\u001b[0m\u001b[0;34m.\u001b[0m\u001b[0muint8\u001b[0m\u001b[0;34m)\u001b[0m\u001b[0;34m\u001b[0m\u001b[0m\n\u001b[1;32m     21\u001b[0m         \u001b[0mimg\u001b[0m \u001b[0;34m=\u001b[0m \u001b[0mcv2\u001b[0m\u001b[0;34m.\u001b[0m\u001b[0mcvtColor\u001b[0m\u001b[0;34m(\u001b[0m\u001b[0mimg\u001b[0m\u001b[0;34m,\u001b[0m \u001b[0mcv2\u001b[0m\u001b[0;34m.\u001b[0m\u001b[0mCOLOR_GRAY2RGB\u001b[0m\u001b[0;34m)\u001b[0m\u001b[0;34m\u001b[0m\u001b[0m\n",
      "\u001b[0;31mTypeError\u001b[0m: src is not a numpy array, neither a scalar"
     ]
    }
   ],
   "source": [
    "saveDepth(dev)"
   ]
  },
  {
   "cell_type": "code",
   "execution_count": 18,
   "metadata": {},
   "outputs": [
    {
     "name": "stdout",
     "output_type": "stream",
     "text": [
      "Python 2.7.14\r\n"
     ]
    }
   ],
   "source": [
    "!python -V\n"
   ]
  }
 ],
 "metadata": {
  "kernelspec": {
   "display_name": "Python 2",
   "language": "python",
   "name": "python2"
  },
  "language_info": {
   "codemirror_mode": {
    "name": "ipython",
    "version": 2
   },
   "file_extension": ".py",
   "mimetype": "text/x-python",
   "name": "python",
   "nbconvert_exporter": "python",
   "pygments_lexer": "ipython2",
   "version": "2.7.14"
  }
 },
 "nbformat": 4,
 "nbformat_minor": 2
}
