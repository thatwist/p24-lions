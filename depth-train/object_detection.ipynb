{
 "cells": [
  {
   "cell_type": "code",
   "execution_count": 14,
   "metadata": {
    "scrolled": true
   },
   "outputs": [],
   "source": [
    "import numpy as np\n",
    "import os\n",
    "import six.moves.urllib as urllib\n",
    "import sys\n",
    "import tarfile\n",
    "import tensorflow as tf\n",
    "import zipfile\n",
    "\n",
    "from collections import defaultdict\n",
    "from io import StringIO\n",
    "from matplotlib import pyplot as plt\n",
    "from PIL import Image\n",
    "\n",
    "# This is needed since the notebook is stored in the object_detection folder.\n",
    "sys.path.append(\"..\")\n",
    "from object_detection.utils import ops as utils_ops\n",
    "\n",
    "if tf.__version__ < '1.4.0':\n",
    "    raise ImportError('Please upgrade your tensorflow installation to v1.4.* or later!')\n"
   ]
  },
  {
   "cell_type": "code",
   "execution_count": 15,
   "metadata": {},
   "outputs": [],
   "source": [
    "%matplotlib inline"
   ]
  },
  {
   "cell_type": "code",
   "execution_count": 16,
   "metadata": {},
   "outputs": [],
   "source": [
    "# from utils import label_map_util\n",
    "\n",
    "# from utils import visualization_utils as vis_util"
   ]
  },
  {
   "cell_type": "code",
   "execution_count": 17,
   "metadata": {},
   "outputs": [],
   "source": [
    "PATH_TO_CKPT = 'output/frozen_inference_graph.pb'"
   ]
  },
  {
   "cell_type": "code",
   "execution_count": 18,
   "metadata": {},
   "outputs": [],
   "source": [
    "PATH_TO_LABELS = 'data/object-detection.pbtxt'"
   ]
  },
  {
   "cell_type": "code",
   "execution_count": 19,
   "metadata": {},
   "outputs": [],
   "source": [
    "NUM_CLASSES = 1"
   ]
  },
  {
   "cell_type": "code",
   "execution_count": 20,
   "metadata": {},
   "outputs": [],
   "source": [
    "# load graph\n",
    "detection_graph = tf.Graph()\n",
    "with detection_graph.as_default():\n",
    "    od_graph_def = tf.GraphDef()\n",
    "    with tf.gfile.GFile(PATH_TO_CKPT, 'rb') as fid:\n",
    "        serialized_graph = fid.read()\n",
    "        od_graph_def.ParseFromString(serialized_graph)\n",
    "        tf.import_graph_def(od_graph_def, name='')"
   ]
  },
  {
   "cell_type": "code",
   "execution_count": 21,
   "metadata": {},
   "outputs": [],
   "source": [
    "# load labels\n",
    "label_map = label_map_util.load_labelmap(PATH_TO_LABELS)\n",
    "categories = label_map_util.convert_label_map_to_categories(label_map, max_num_classes=NUM_CLASSES, use_display_name=True)\n",
    "category_index = label_map_util.create_category_index(categories)"
   ]
  },
  {
   "cell_type": "code",
   "execution_count": 22,
   "metadata": {},
   "outputs": [],
   "source": [
    "def load_image_into_numpy_array(image):\n",
    "    (im_width, im_height) = image.size\n",
    "    return np.array(image.getdata()).reshape(\n",
    "        (im_height, im_width, 3)).astype(np.uint8)"
   ]
  },
  {
   "cell_type": "code",
   "execution_count": 78,
   "metadata": {},
   "outputs": [
    {
     "name": "stdout",
     "output_type": "stream",
     "text": [
      "['test_images/frame779.jpg', 'test_images/frame1249.jpg', 'test_images/frame1496.jpg', 'test_images/frame1251.jpg', 'test_images/frame1038.jpg', 'test_images/frame1485.jpg', 'test_images/frame757.jpg', 'test_images/frame1483.jpg']\n"
     ]
    }
   ],
   "source": [
    "PATH_TO_TEST_IMAGES_DIR = 'test_images'\n",
    "TEST_IMAGE_PATHS = []\n",
    "for f in os.listdir(PATH_TO_TEST_IMAGES_DIR):\n",
    "    TEST_IMAGE_PATHS.append(os.path.join(PATH_TO_TEST_IMAGES_DIR, f))\n",
    "#TEST_IMAGE_PATHS = [\"test_images/frame779.jpg\"]\n",
    "print(TEST_IMAGE_PATHS)\n",
    "\n",
    "# Size, in inches, of the output images.\n",
    "IMAGE_SIZE = (12, 8)"
   ]
  },
  {
   "cell_type": "code",
   "execution_count": null,
   "metadata": {},
   "outputs": [],
   "source": []
  },
  {
   "cell_type": "code",
   "execution_count": 47,
   "metadata": {},
   "outputs": [],
   "source": [
    "def run_inference_for_single_image(image, graph):\n",
    "    with graph.as_default():\n",
    "        with tf.Session() as sess:\n",
    "            # Get handles to input and output tensors\n",
    "            ops = tf.get_default_graph().get_operations()\n",
    "            all_tensor_names = {output.name for op in ops for output in op.outputs}\n",
    "            tensor_dict = {}\n",
    "            for key in [\n",
    "                'num_detections', 'detection_boxes', 'detection_scores',\n",
    "                'detection_classes', 'detection_masks'\n",
    "            ]:\n",
    "                tensor_name = key + ':0'\n",
    "                if tensor_name in all_tensor_names:\n",
    "                    tensor_dict[key] = tf.get_default_graph().get_tensor_by_name(tensor_name)\n",
    "            if 'detection_masks' in tensor_dict:\n",
    "                # The following processing is only for single image\n",
    "                detection_boxes = tf.squeeze(tensor_dict['detection_boxes'], [0])\n",
    "                detection_masks = tf.squeeze(tensor_dict['detection_masks'], [0])\n",
    "                # Reframe is required to translate mask from box coordinates to image coordinates and fit the image size.\n",
    "                real_num_detection = tf.cast(tensor_dict['num_detections'][0], tf.int32)\n",
    "                detection_boxes = tf.slice(detection_boxes, [0, 0], [real_num_detection, -1])\n",
    "                detection_masks = tf.slice(detection_masks, [0, 0, 0], [real_num_detection, -1, -1])\n",
    "                detection_masks_reframed = utils_ops.reframe_box_masks_to_image_masks(\n",
    "                    detection_masks, detection_boxes, image.shape[0], image.shape[1])\n",
    "                detection_masks_reframed = tf.cast(\n",
    "                    tf.greater(detection_masks_reframed, 0.5), tf.uint8)\n",
    "                # Follow the convention by adding back the batch dimension\n",
    "                tensor_dict['detection_masks'] = tf.expand_dims(\n",
    "                    detection_masks_reframed, 0)\n",
    "            image_tensor = tf.get_default_graph().get_tensor_by_name('image_tensor:0')\n",
    "\n",
    "            # Run inference\n",
    "            output_dict = sess.run(tensor_dict,\n",
    "                                   feed_dict={image_tensor: np.expand_dims(image, 0)})\n",
    "\n",
    "            # all outputs are float32 numpy arrays, so convert types as appropriate\n",
    "            output_dict['num_detections'] = int(output_dict['num_detections'][0])\n",
    "            output_dict['detection_classes'] = output_dict[\n",
    "                'detection_classes'][0].astype(np.uint8)\n",
    "            output_dict['detection_boxes'] = output_dict['detection_boxes'][0]\n",
    "            output_dict['detection_scores'] = output_dict['detection_scores'][0]\n",
    "            if 'detection_masks' in output_dict:\n",
    "                output_dict['detection_masks'] = output_dict['detection_masks'][0]\n",
    "    return output_dict"
   ]
  },
  {
   "cell_type": "code",
   "execution_count": 91,
   "metadata": {
    "scrolled": true
   },
   "outputs": [],
   "source": [
    "def cut_head(image_path):\n",
    "    image = Image.open(image_path)\n",
    "    # the array based representation of the image will be used later in order to prepare the\n",
    "    # result image with boxes and labels on it.\n",
    "    image_np = load_image_into_numpy_array(image)\n",
    "    # Expand dimensions since the model expects images to have shape: [1, None, None, 3]\n",
    "    image_np_expanded = np.expand_dims(image_np, axis=0)\n",
    "    # Actual detection.\n",
    "    output_dict = run_inference_for_single_image(image_np, detection_graph)\n",
    "    im_width, im_height = image.size\n",
    "    detection_boxes = output_dict['detection_boxes']\n",
    "    detection_classes = output_dict['detection_classes']\n",
    "    detection_scores = output_dict['detection_scores']\n",
    "    score = detection_scores[0]\n",
    "    print(\"highest score = {}\".format(detection_scores[0]))\n",
    "    box = detection_boxes[0]\n",
    "    ymin, xmin, ymax, xmax = box\n",
    "    (left, right, top, bottom) = (int(xmin * im_width), int(xmax * im_width),\n",
    "                                  int(ymin * im_height), int(ymax * im_height))\n",
    "    \n",
    "    area = (left, top, right, bottom)\n",
    "    print(\"area = {}\".format(area))\n",
    "    # Visualization of the results of a detection.\n",
    "#     print(output_dict['detection_classes'])\n",
    "#     print(output_dict['detection_boxes'])\n",
    "#     print('s============s')\n",
    "#     print('s============s')\n",
    "#     print('s============s')\n",
    "#     print('s============s')\n",
    "#     print(output_dict['detection_scores'])\n",
    "#     draw = ImageDraw.Draw(image)\n",
    "#     draw.line([(left, top), (left, bottom), (right, bottom),\n",
    "#              (right, top), (left, top)], width=4, fill='red')\n",
    "#     print(type(image))\n",
    "    cropped = image.crop(area)\n",
    "    n = np.array(cropped)\n",
    "#     print(n)\n",
    "    return (n, score)\n",
    "#     w1, h1 = image.size\n",
    "#     w2, h2 = cropped.size\n",
    "#     print(type(cropped))\n",
    "#     print(image.size)\n",
    "#     print(cropped.size)\n",
    "#     n = np.asarray(cropped)\n",
    "#     cropped.show()\n",
    "#     print(n)\n",
    "#     print(cropped)\n",
    "#     cropped.save('test1.jpg')\n",
    "#     from IPython.display import display\n",
    "    \n",
    "#     plt.figure(figsize=IMAGE_SIZE)\n",
    "#     plt.imshow(cropped)\n",
    "#     vis_util.visualize_boxes_and_labels_on_image_array(\n",
    "#         image_np,\n",
    "#         output_dict['detection_boxes'],\n",
    "#         output_dict['detection_classes'],\n",
    "#         output_dict['detection_scores'],\n",
    "#         category_index,\n",
    "#         instance_masks=output_dict.get('detection_masks'),\n",
    "#         use_normalized_coordinates=True,\n",
    "#         line_thickness=8)\n",
    "#     plt.imshow(image)"
   ]
  },
  {
   "cell_type": "code",
   "execution_count": 93,
   "metadata": {},
   "outputs": [
    {
     "name": "stdout",
     "output_type": "stream",
     "text": [
      "highest score = 0.20356473326683044\n",
      "area = (336, 183, 506, 357)\n",
      "highest score = 0.27769407629966736\n",
      "area = (327, 196, 392, 262)\n",
      "highest score = 0.29602181911468506\n",
      "area = (410, 197, 482, 268)\n",
      "highest score = 0.3388868272304535\n",
      "area = (327, 198, 388, 260)\n",
      "highest score = 0.8475614190101624\n",
      "area = (489, 204, 554, 264)\n",
      "highest score = 0.7066797614097595\n",
      "area = (484, 195, 552, 268)\n",
      "highest score = 0.3371533751487732\n",
      "area = (154, 205, 219, 262)\n",
      "highest score = 0.8011513352394104\n",
      "area = (495, 194, 563, 268)\n"
     ]
    }
   ],
   "source": [
    "for image_path in TEST_IMAGE_PATHS:\n",
    "    score, img_n_arr = cut_head(image_path)"
   ]
  },
  {
   "cell_type": "code",
   "execution_count": null,
   "metadata": {},
   "outputs": [],
   "source": []
  }
 ],
 "metadata": {
  "colab": {
   "version": "0.3.2"
  },
  "kernelspec": {
   "display_name": "Python 3",
   "language": "python",
   "name": "python3"
  },
  "language_info": {
   "codemirror_mode": {
    "name": "ipython",
    "version": 3
   },
   "file_extension": ".py",
   "mimetype": "text/x-python",
   "name": "python",
   "nbconvert_exporter": "python",
   "pygments_lexer": "ipython3",
   "version": "3.5.2"
  }
 },
 "nbformat": 4,
 "nbformat_minor": 2
}
